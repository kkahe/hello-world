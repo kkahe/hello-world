{
  "nbformat": 4,
  "nbformat_minor": 0,
  "metadata": {
    "colab": {
      "name": "GAN2.ipynb",
      "provenance": [],
      "collapsed_sections": [],
      "authorship_tag": "ABX9TyMzfCqaCm0vSATTuNEIC6Qn",
      "include_colab_link": true
    },
    "kernelspec": {
      "name": "python3",
      "display_name": "Python 3"
    },
    "language_info": {
      "name": "python"
    },
    "accelerator": "GPU",
    "widgets": {
      "application/vnd.jupyter.widget-state+json": {
        "1f2dfd3fd48c4459af43e6c13ffbc1b4": {
          "model_module": "@jupyter-widgets/controls",
          "model_name": "HBoxModel",
          "model_module_version": "1.5.0",
          "state": {
            "_view_name": "HBoxView",
            "_dom_classes": [],
            "_model_name": "HBoxModel",
            "_view_module": "@jupyter-widgets/controls",
            "_model_module_version": "1.5.0",
            "_view_count": null,
            "_view_module_version": "1.5.0",
            "box_style": "",
            "layout": "IPY_MODEL_867c5f0c09dc4c34b16da649d8e4a268",
            "_model_module": "@jupyter-widgets/controls",
            "children": [
              "IPY_MODEL_07c09d9580d74cc4a5bb56f5637001f1",
              "IPY_MODEL_cbc22603a51243bc94c9c4d7ed3cdcd8",
              "IPY_MODEL_d5ff5803f8ff471881ec7df34da8aff8"
            ]
          }
        },
        "867c5f0c09dc4c34b16da649d8e4a268": {
          "model_module": "@jupyter-widgets/base",
          "model_name": "LayoutModel",
          "model_module_version": "1.2.0",
          "state": {
            "_view_name": "LayoutView",
            "grid_template_rows": null,
            "right": null,
            "justify_content": null,
            "_view_module": "@jupyter-widgets/base",
            "overflow": null,
            "_model_module_version": "1.2.0",
            "_view_count": null,
            "flex_flow": null,
            "width": null,
            "min_width": null,
            "border": null,
            "align_items": null,
            "bottom": null,
            "_model_module": "@jupyter-widgets/base",
            "top": null,
            "grid_column": null,
            "overflow_y": null,
            "overflow_x": null,
            "grid_auto_flow": null,
            "grid_area": null,
            "grid_template_columns": null,
            "flex": null,
            "_model_name": "LayoutModel",
            "justify_items": null,
            "grid_row": null,
            "max_height": null,
            "align_content": null,
            "visibility": null,
            "align_self": null,
            "height": null,
            "min_height": null,
            "padding": null,
            "grid_auto_rows": null,
            "grid_gap": null,
            "max_width": null,
            "order": null,
            "_view_module_version": "1.2.0",
            "grid_template_areas": null,
            "object_position": null,
            "object_fit": null,
            "grid_auto_columns": null,
            "margin": null,
            "display": null,
            "left": null
          }
        },
        "07c09d9580d74cc4a5bb56f5637001f1": {
          "model_module": "@jupyter-widgets/controls",
          "model_name": "HTMLModel",
          "model_module_version": "1.5.0",
          "state": {
            "_view_name": "HTMLView",
            "style": "IPY_MODEL_1f99aa99d26b4134aa7bef003ea79a4e",
            "_dom_classes": [],
            "description": "",
            "_model_name": "HTMLModel",
            "placeholder": "​",
            "_view_module": "@jupyter-widgets/controls",
            "_model_module_version": "1.5.0",
            "value": "",
            "_view_count": null,
            "_view_module_version": "1.5.0",
            "description_tooltip": null,
            "_model_module": "@jupyter-widgets/controls",
            "layout": "IPY_MODEL_72d2eab8cd4c4a64974334ed55be5643"
          }
        },
        "cbc22603a51243bc94c9c4d7ed3cdcd8": {
          "model_module": "@jupyter-widgets/controls",
          "model_name": "FloatProgressModel",
          "model_module_version": "1.5.0",
          "state": {
            "_view_name": "ProgressView",
            "style": "IPY_MODEL_4d1ea70803834339833441e54a558a16",
            "_dom_classes": [],
            "description": "",
            "_model_name": "FloatProgressModel",
            "bar_style": "success",
            "max": 561753746,
            "_view_module": "@jupyter-widgets/controls",
            "_model_module_version": "1.5.0",
            "value": 561753746,
            "_view_count": null,
            "_view_module_version": "1.5.0",
            "orientation": "horizontal",
            "min": 0,
            "description_tooltip": null,
            "_model_module": "@jupyter-widgets/controls",
            "layout": "IPY_MODEL_39b6e17a23d14ef1a5e4d600803abe19"
          }
        },
        "d5ff5803f8ff471881ec7df34da8aff8": {
          "model_module": "@jupyter-widgets/controls",
          "model_name": "HTMLModel",
          "model_module_version": "1.5.0",
          "state": {
            "_view_name": "HTMLView",
            "style": "IPY_MODEL_8d6956c40ca3401cb39a278970fc7d2d",
            "_dom_classes": [],
            "description": "",
            "_model_name": "HTMLModel",
            "placeholder": "​",
            "_view_module": "@jupyter-widgets/controls",
            "_model_module_version": "1.5.0",
            "value": " 561754112/? [00:17&lt;00:00, 31003630.51it/s]",
            "_view_count": null,
            "_view_module_version": "1.5.0",
            "description_tooltip": null,
            "_model_module": "@jupyter-widgets/controls",
            "layout": "IPY_MODEL_eae867fcf8694bbd841f903d51b48cc1"
          }
        },
        "1f99aa99d26b4134aa7bef003ea79a4e": {
          "model_module": "@jupyter-widgets/controls",
          "model_name": "DescriptionStyleModel",
          "model_module_version": "1.5.0",
          "state": {
            "_view_name": "StyleView",
            "_model_name": "DescriptionStyleModel",
            "description_width": "",
            "_view_module": "@jupyter-widgets/base",
            "_model_module_version": "1.5.0",
            "_view_count": null,
            "_view_module_version": "1.2.0",
            "_model_module": "@jupyter-widgets/controls"
          }
        },
        "72d2eab8cd4c4a64974334ed55be5643": {
          "model_module": "@jupyter-widgets/base",
          "model_name": "LayoutModel",
          "model_module_version": "1.2.0",
          "state": {
            "_view_name": "LayoutView",
            "grid_template_rows": null,
            "right": null,
            "justify_content": null,
            "_view_module": "@jupyter-widgets/base",
            "overflow": null,
            "_model_module_version": "1.2.0",
            "_view_count": null,
            "flex_flow": null,
            "width": null,
            "min_width": null,
            "border": null,
            "align_items": null,
            "bottom": null,
            "_model_module": "@jupyter-widgets/base",
            "top": null,
            "grid_column": null,
            "overflow_y": null,
            "overflow_x": null,
            "grid_auto_flow": null,
            "grid_area": null,
            "grid_template_columns": null,
            "flex": null,
            "_model_name": "LayoutModel",
            "justify_items": null,
            "grid_row": null,
            "max_height": null,
            "align_content": null,
            "visibility": null,
            "align_self": null,
            "height": null,
            "min_height": null,
            "padding": null,
            "grid_auto_rows": null,
            "grid_gap": null,
            "max_width": null,
            "order": null,
            "_view_module_version": "1.2.0",
            "grid_template_areas": null,
            "object_position": null,
            "object_fit": null,
            "grid_auto_columns": null,
            "margin": null,
            "display": null,
            "left": null
          }
        },
        "4d1ea70803834339833441e54a558a16": {
          "model_module": "@jupyter-widgets/controls",
          "model_name": "ProgressStyleModel",
          "model_module_version": "1.5.0",
          "state": {
            "_view_name": "StyleView",
            "_model_name": "ProgressStyleModel",
            "description_width": "",
            "_view_module": "@jupyter-widgets/base",
            "_model_module_version": "1.5.0",
            "_view_count": null,
            "_view_module_version": "1.2.0",
            "bar_color": null,
            "_model_module": "@jupyter-widgets/controls"
          }
        },
        "39b6e17a23d14ef1a5e4d600803abe19": {
          "model_module": "@jupyter-widgets/base",
          "model_name": "LayoutModel",
          "model_module_version": "1.2.0",
          "state": {
            "_view_name": "LayoutView",
            "grid_template_rows": null,
            "right": null,
            "justify_content": null,
            "_view_module": "@jupyter-widgets/base",
            "overflow": null,
            "_model_module_version": "1.2.0",
            "_view_count": null,
            "flex_flow": null,
            "width": null,
            "min_width": null,
            "border": null,
            "align_items": null,
            "bottom": null,
            "_model_module": "@jupyter-widgets/base",
            "top": null,
            "grid_column": null,
            "overflow_y": null,
            "overflow_x": null,
            "grid_auto_flow": null,
            "grid_area": null,
            "grid_template_columns": null,
            "flex": null,
            "_model_name": "LayoutModel",
            "justify_items": null,
            "grid_row": null,
            "max_height": null,
            "align_content": null,
            "visibility": null,
            "align_self": null,
            "height": null,
            "min_height": null,
            "padding": null,
            "grid_auto_rows": null,
            "grid_gap": null,
            "max_width": null,
            "order": null,
            "_view_module_version": "1.2.0",
            "grid_template_areas": null,
            "object_position": null,
            "object_fit": null,
            "grid_auto_columns": null,
            "margin": null,
            "display": null,
            "left": null
          }
        },
        "8d6956c40ca3401cb39a278970fc7d2d": {
          "model_module": "@jupyter-widgets/controls",
          "model_name": "DescriptionStyleModel",
          "model_module_version": "1.5.0",
          "state": {
            "_view_name": "StyleView",
            "_model_name": "DescriptionStyleModel",
            "description_width": "",
            "_view_module": "@jupyter-widgets/base",
            "_model_module_version": "1.5.0",
            "_view_count": null,
            "_view_module_version": "1.2.0",
            "_model_module": "@jupyter-widgets/controls"
          }
        },
        "eae867fcf8694bbd841f903d51b48cc1": {
          "model_module": "@jupyter-widgets/base",
          "model_name": "LayoutModel",
          "model_module_version": "1.2.0",
          "state": {
            "_view_name": "LayoutView",
            "grid_template_rows": null,
            "right": null,
            "justify_content": null,
            "_view_module": "@jupyter-widgets/base",
            "overflow": null,
            "_model_module_version": "1.2.0",
            "_view_count": null,
            "flex_flow": null,
            "width": null,
            "min_width": null,
            "border": null,
            "align_items": null,
            "bottom": null,
            "_model_module": "@jupyter-widgets/base",
            "top": null,
            "grid_column": null,
            "overflow_y": null,
            "overflow_x": null,
            "grid_auto_flow": null,
            "grid_area": null,
            "grid_template_columns": null,
            "flex": null,
            "_model_name": "LayoutModel",
            "justify_items": null,
            "grid_row": null,
            "max_height": null,
            "align_content": null,
            "visibility": null,
            "align_self": null,
            "height": null,
            "min_height": null,
            "padding": null,
            "grid_auto_rows": null,
            "grid_gap": null,
            "max_width": null,
            "order": null,
            "_view_module_version": "1.2.0",
            "grid_template_areas": null,
            "object_position": null,
            "object_fit": null,
            "grid_auto_columns": null,
            "margin": null,
            "display": null,
            "left": null
          }
        }
      }
    }
  },
  "cells": [
    {
      "cell_type": "markdown",
      "metadata": {
        "id": "view-in-github",
        "colab_type": "text"
      },
      "source": [
        "<a href=\"https://colab.research.google.com/github/kkahe/hello-world/blob/main/GAN2.ipynb\" target=\"_parent\"><img src=\"https://colab.research.google.com/assets/colab-badge.svg\" alt=\"Open In Colab\"/></a>"
      ]
    },
    {
      "cell_type": "code",
      "execution_count": null,
      "metadata": {
        "id": "BNCbxxvWruTo"
      },
      "outputs": [],
      "source": [
        "import torch\n",
        "import torch.nn as nn\n",
        "import torch.optim as optim\n",
        "import torchvision\n",
        "import torchvision.utils as utils\n",
        "import torchvision.datasets as dsets\n",
        "import torchvision.transforms as transforms\n",
        "\n",
        "is_cuda = torch.cuda.is_available()\n",
        "device = torch.device('cuda' if is_cuda else 'cpu')"
      ]
    },
    {
      "cell_type": "code",
      "source": [
        "latent_dim = 100\n",
        "\n",
        "\n",
        "class Generator(nn.Module):\n",
        "    def __init__(self):\n",
        "        super(Generator, self).__init__()\n",
        "\n",
        "\n",
        "        def block(input_dim, output_dim, normalize=True):\n",
        "            layers = [nn.Linear(input_dim, output_dim)]\n",
        "            if normalize:\n",
        "\n",
        "                layers.append(nn.BatchNorm1d(output_dim, 0.8))\n",
        "            layers.append(nn.LeakyReLU(0.2, inplace=True))\n",
        "            return layers\n",
        "\n",
        "\n",
        "        self.model = nn.Sequential(\n",
        "            *block(latent_dim, 128, normalize=False),\n",
        "            *block(128, 256),\n",
        "            *block(256, 512),\n",
        "            *block(512, 1024),\n",
        "            nn.Linear(1024, 1 * 28 * 28),\n",
        "            nn.Tanh()\n",
        "        )\n",
        "\n",
        "    def forward(self, z):\n",
        "        img = self.model(z)\n",
        "        img = img.view(img.size(0), 1, 28, 28)\n",
        "        return img"
      ],
      "metadata": {
        "id": "RWtsqFIXtB6O"
      },
      "execution_count": null,
      "outputs": []
    },
    {
      "cell_type": "code",
      "source": [
        "\n",
        "class Discriminator(nn.Module):\n",
        "    def __init__(self):\n",
        "        super(Discriminator, self).__init__()\n",
        "\n",
        "        self.model = nn.Sequential(\n",
        "            nn.Linear(1 * 28 * 28, 512),\n",
        "            nn.LeakyReLU(0.2, inplace=True),\n",
        "            nn.Linear(512, 256),\n",
        "            nn.LeakyReLU(0.2, inplace=True),\n",
        "            nn.Linear(256, 1),\n",
        "            nn.Sigmoid(),\n",
        "        )\n",
        "\n",
        "\n",
        "    def forward(self, img):\n",
        "        flattened = img.view(img.size(0), -1)\n",
        "        output = self.model(flattened)\n",
        "\n",
        "        return output"
      ],
      "metadata": {
        "id": "i8qS81gdtFz2"
      },
      "execution_count": null,
      "outputs": []
    },
    {
      "cell_type": "code",
      "source": [
        "train_set = torchvision.datasets.EMNIST(\n",
        "    root = './data/EMNIST',\n",
        "    split = 'letters',\n",
        "    train = True,\n",
        "    download = True,\n",
        "    transform = transforms.Compose([\n",
        "        transforms.ToTensor() \n",
        "    ])\n",
        ")\n",
        "test_set = torchvision.datasets.EMNIST(\n",
        "    root = './data/EMNIST',\n",
        "    split = 'letters',\n",
        "    train = False,\n",
        "    download = True,\n",
        "    transform = transforms.Compose([\n",
        "        transforms.ToTensor() \n",
        "    ])\n",
        ")\n",
        "dataloader = torch.utils.data.DataLoader(train_set, batch_size=128, shuffle=True, num_workers=4)"
      ],
      "metadata": {
        "colab": {
          "base_uri": "https://localhost:8080/",
          "height": 142,
          "referenced_widgets": [
            "1f2dfd3fd48c4459af43e6c13ffbc1b4",
            "867c5f0c09dc4c34b16da649d8e4a268",
            "07c09d9580d74cc4a5bb56f5637001f1",
            "cbc22603a51243bc94c9c4d7ed3cdcd8",
            "d5ff5803f8ff471881ec7df34da8aff8",
            "1f99aa99d26b4134aa7bef003ea79a4e",
            "72d2eab8cd4c4a64974334ed55be5643",
            "4d1ea70803834339833441e54a558a16",
            "39b6e17a23d14ef1a5e4d600803abe19",
            "8d6956c40ca3401cb39a278970fc7d2d",
            "eae867fcf8694bbd841f903d51b48cc1"
          ]
        },
        "id": "wikyS8ODr7rD",
        "outputId": "9d9e2802-7040-4f75-a1f3-b52e1638cf69"
      },
      "execution_count": null,
      "outputs": [
        {
          "output_type": "stream",
          "name": "stdout",
          "text": [
            "Downloading https://www.itl.nist.gov/iaui/vip/cs_links/EMNIST/gzip.zip to ./data/EMNIST/EMNIST/raw/gzip.zip\n"
          ]
        },
        {
          "output_type": "display_data",
          "data": {
            "application/vnd.jupyter.widget-view+json": {
              "model_id": "1f2dfd3fd48c4459af43e6c13ffbc1b4",
              "version_minor": 0,
              "version_major": 2
            },
            "text/plain": [
              "  0%|          | 0/561753746 [00:00<?, ?it/s]"
            ]
          },
          "metadata": {}
        },
        {
          "output_type": "stream",
          "name": "stdout",
          "text": [
            "Extracting ./data/EMNIST/EMNIST/raw/gzip.zip to ./data/EMNIST/EMNIST/raw\n"
          ]
        },
        {
          "output_type": "stream",
          "name": "stderr",
          "text": [
            "/usr/local/lib/python3.7/dist-packages/torch/utils/data/dataloader.py:481: UserWarning: This DataLoader will create 4 worker processes in total. Our suggested max number of worker in current system is 2, which is smaller than what this DataLoader is going to create. Please be aware that excessive worker creation might get DataLoader running slow or even freeze, lower the worker number to avoid potential slowness/freeze if necessary.\n",
            "  cpuset_checked))\n"
          ]
        }
      ]
    },
    {
      "cell_type": "code",
      "source": [
        "\n",
        "generator = Generator()\n",
        "discriminator = Discriminator()\n",
        "\n",
        "generator.cuda()\n",
        "discriminator.cuda()\n",
        "\n",
        "adversarial_loss = nn.BCELoss()\n",
        "adversarial_loss.cuda()\n",
        "\n",
        "lr = 0.0002\n",
        "\n",
        "optimizer_G = torch.optim.Adam(generator.parameters(), lr=lr, betas=(0.5, 0.999))\n",
        "optimizer_D = torch.optim.Adam(discriminator.parameters(), lr=lr, betas=(0.5, 0.999))"
      ],
      "metadata": {
        "id": "9Pyrx5XTtcyg"
      },
      "execution_count": null,
      "outputs": []
    },
    {
      "cell_type": "code",
      "source": [
        "import time\n",
        "\n",
        "n_epochs = 100 \n",
        "sample_interval = 1000 \n",
        "start_time = time.time()\n",
        "\n",
        "for epoch in range(n_epochs):\n",
        "    for i, (imgs, _) in enumerate(dataloader):\n",
        "\n",
        "        real = torch.cuda.FloatTensor(imgs.size(0), 1).fill_(1.0) \n",
        "        fake = torch.cuda.FloatTensor(imgs.size(0), 1).fill_(0.0) \n",
        "\n",
        "        real_imgs = imgs.cuda()\n",
        "\n",
        "        optimizer_G.zero_grad()\n",
        "\n",
        "        z = torch.normal(mean=0, std=1, size=(imgs.shape[0], latent_dim)).cuda()\n",
        "\n",
        "        generated_imgs = generator(z)\n",
        "\n",
        "        g_loss = adversarial_loss(discriminator(generated_imgs), real)\n",
        "\n",
        "        g_loss.backward()\n",
        "        optimizer_G.step()\n",
        "\n",
        "        optimizer_D.zero_grad()\n",
        "\n",
        "        real_loss = adversarial_loss(discriminator(real_imgs), real)\n",
        "        fake_loss = adversarial_loss(discriminator(generated_imgs.detach()), fake)\n",
        "        d_loss = (real_loss + fake_loss) / 2\n",
        "\n",
        "        d_loss.backward()\n",
        "        optimizer_D.step()\n",
        "\n",
        "        done = epoch * len(dataloader) + i\n",
        "\n",
        "    print(f\"[Epoch {epoch}/{n_epochs}] [D loss: {d_loss.item():.6f}] [G loss: {g_loss.item():.6f}] [Elapsed time: {time.time() - start_time:.2f}s]\")"
      ],
      "metadata": {
        "colab": {
          "base_uri": "https://localhost:8080/"
        },
        "id": "3Uq7qp-Zuqyu",
        "outputId": "2b4d8222-f70c-414f-906e-b6341adb1d12"
      },
      "execution_count": null,
      "outputs": [
        {
          "metadata": {
            "tags": null
          },
          "name": "stderr",
          "output_type": "stream",
          "text": [
            "/usr/local/lib/python3.7/dist-packages/torch/utils/data/dataloader.py:481: UserWarning: This DataLoader will create 4 worker processes in total. Our suggested max number of worker in current system is 2, which is smaller than what this DataLoader is going to create. Please be aware that excessive worker creation might get DataLoader running slow or even freeze, lower the worker number to avoid potential slowness/freeze if necessary.\n",
            "  cpuset_checked))\n"
          ]
        },
        {
          "output_type": "stream",
          "name": "stdout",
          "text": [
            "[Epoch 0/100] [D loss: 0.539456] [G loss: 1.728328] [Elapsed time: 29.09s]\n",
            "[Epoch 1/100] [D loss: 0.397891] [G loss: 1.251898] [Elapsed time: 58.05s]\n",
            "[Epoch 2/100] [D loss: 0.441103] [G loss: 1.680293] [Elapsed time: 88.09s]\n",
            "[Epoch 3/100] [D loss: 0.357997] [G loss: 1.424243] [Elapsed time: 117.25s]\n",
            "[Epoch 4/100] [D loss: 0.357721] [G loss: 1.698322] [Elapsed time: 146.50s]\n",
            "[Epoch 5/100] [D loss: 0.375135] [G loss: 1.758095] [Elapsed time: 175.95s]\n",
            "[Epoch 6/100] [D loss: 0.327702] [G loss: 1.237350] [Elapsed time: 204.51s]\n",
            "[Epoch 7/100] [D loss: 0.355840] [G loss: 1.884586] [Elapsed time: 233.29s]\n",
            "[Epoch 8/100] [D loss: 0.349261] [G loss: 1.812810] [Elapsed time: 262.37s]\n",
            "[Epoch 9/100] [D loss: 0.261384] [G loss: 2.106219] [Elapsed time: 291.47s]\n",
            "[Epoch 10/100] [D loss: 0.291145] [G loss: 1.877792] [Elapsed time: 320.04s]\n",
            "[Epoch 11/100] [D loss: 0.353790] [G loss: 1.433911] [Elapsed time: 348.78s]\n",
            "[Epoch 12/100] [D loss: 0.254517] [G loss: 2.118132] [Elapsed time: 377.73s]\n",
            "[Epoch 13/100] [D loss: 0.276600] [G loss: 2.271516] [Elapsed time: 406.80s]\n",
            "[Epoch 14/100] [D loss: 0.231122] [G loss: 3.026995] [Elapsed time: 435.31s]\n",
            "[Epoch 15/100] [D loss: 0.246248] [G loss: 2.917472] [Elapsed time: 463.69s]\n",
            "[Epoch 16/100] [D loss: 0.217488] [G loss: 2.616236] [Elapsed time: 491.46s]\n",
            "[Epoch 17/100] [D loss: 0.191719] [G loss: 2.781664] [Elapsed time: 518.80s]\n",
            "[Epoch 18/100] [D loss: 0.235280] [G loss: 3.765727] [Elapsed time: 546.39s]\n",
            "[Epoch 19/100] [D loss: 0.242808] [G loss: 1.814570] [Elapsed time: 573.87s]\n",
            "[Epoch 20/100] [D loss: 0.288727] [G loss: 2.282543] [Elapsed time: 601.38s]\n",
            "[Epoch 21/100] [D loss: 0.114560] [G loss: 3.105625] [Elapsed time: 629.01s]\n",
            "[Epoch 22/100] [D loss: 0.213954] [G loss: 1.947290] [Elapsed time: 656.62s]\n",
            "[Epoch 23/100] [D loss: 0.175073] [G loss: 3.030945] [Elapsed time: 684.25s]\n",
            "[Epoch 24/100] [D loss: 0.191098] [G loss: 2.182552] [Elapsed time: 712.18s]\n",
            "[Epoch 25/100] [D loss: 0.289136] [G loss: 2.703893] [Elapsed time: 740.30s]\n",
            "[Epoch 26/100] [D loss: 0.197961] [G loss: 3.086322] [Elapsed time: 767.56s]\n",
            "[Epoch 27/100] [D loss: 0.292306] [G loss: 1.823534] [Elapsed time: 794.57s]\n",
            "[Epoch 28/100] [D loss: 0.139064] [G loss: 3.473387] [Elapsed time: 821.77s]\n",
            "[Epoch 29/100] [D loss: 0.215656] [G loss: 3.324915] [Elapsed time: 848.81s]\n",
            "[Epoch 30/100] [D loss: 0.137022] [G loss: 3.033544] [Elapsed time: 875.78s]\n",
            "[Epoch 31/100] [D loss: 0.162513] [G loss: 3.587121] [Elapsed time: 902.62s]\n",
            "[Epoch 32/100] [D loss: 0.222616] [G loss: 3.239298] [Elapsed time: 929.62s]\n",
            "[Epoch 33/100] [D loss: 0.255083] [G loss: 1.748371] [Elapsed time: 956.47s]\n",
            "[Epoch 34/100] [D loss: 0.207415] [G loss: 5.783419] [Elapsed time: 983.72s]\n",
            "[Epoch 35/100] [D loss: 0.137017] [G loss: 2.976059] [Elapsed time: 1010.71s]\n",
            "[Epoch 36/100] [D loss: 0.145245] [G loss: 2.691151] [Elapsed time: 1037.84s]\n",
            "[Epoch 37/100] [D loss: 0.100933] [G loss: 3.147734] [Elapsed time: 1065.13s]\n",
            "[Epoch 38/100] [D loss: 0.079126] [G loss: 4.524257] [Elapsed time: 1092.86s]\n",
            "[Epoch 39/100] [D loss: 0.140107] [G loss: 2.828815] [Elapsed time: 1120.37s]\n",
            "[Epoch 40/100] [D loss: 0.180027] [G loss: 5.156617] [Elapsed time: 1147.61s]\n",
            "[Epoch 41/100] [D loss: 0.062795] [G loss: 3.400338] [Elapsed time: 1174.70s]\n",
            "[Epoch 42/100] [D loss: 0.188803] [G loss: 3.999068] [Elapsed time: 1202.32s]\n",
            "[Epoch 43/100] [D loss: 0.281132] [G loss: 5.089060] [Elapsed time: 1229.77s]\n",
            "[Epoch 44/100] [D loss: 0.069279] [G loss: 4.528985] [Elapsed time: 1257.75s]\n",
            "[Epoch 45/100] [D loss: 0.161429] [G loss: 3.555203] [Elapsed time: 1286.04s]\n",
            "[Epoch 46/100] [D loss: 0.213132] [G loss: 4.446198] [Elapsed time: 1313.86s]\n",
            "[Epoch 47/100] [D loss: 0.083138] [G loss: 3.604717] [Elapsed time: 1341.12s]\n",
            "[Epoch 48/100] [D loss: 0.040127] [G loss: 7.100024] [Elapsed time: 1368.63s]\n",
            "[Epoch 49/100] [D loss: 0.172862] [G loss: 10.228025] [Elapsed time: 1397.11s]\n",
            "[Epoch 50/100] [D loss: 0.056811] [G loss: 3.649257] [Elapsed time: 1424.46s]\n",
            "[Epoch 51/100] [D loss: 0.142158] [G loss: 4.629461] [Elapsed time: 1452.32s]\n",
            "[Epoch 52/100] [D loss: 0.061691] [G loss: 3.540123] [Elapsed time: 1479.98s]\n",
            "[Epoch 53/100] [D loss: 0.093496] [G loss: 4.911300] [Elapsed time: 1507.69s]\n",
            "[Epoch 54/100] [D loss: 0.102773] [G loss: 2.821620] [Elapsed time: 1535.83s]\n",
            "[Epoch 55/100] [D loss: 0.102982] [G loss: 4.563170] [Elapsed time: 1563.61s]\n",
            "[Epoch 56/100] [D loss: 0.188584] [G loss: 3.451499] [Elapsed time: 1591.65s]\n",
            "[Epoch 57/100] [D loss: 0.053048] [G loss: 4.418543] [Elapsed time: 1619.47s]\n",
            "[Epoch 58/100] [D loss: 0.100700] [G loss: 3.333062] [Elapsed time: 1647.50s]\n",
            "[Epoch 59/100] [D loss: 0.072989] [G loss: 4.110676] [Elapsed time: 1675.39s]\n",
            "[Epoch 60/100] [D loss: 0.090969] [G loss: 4.178864] [Elapsed time: 1703.42s]\n",
            "[Epoch 61/100] [D loss: 0.100701] [G loss: 2.842278] [Elapsed time: 1730.66s]\n",
            "[Epoch 62/100] [D loss: 0.100267] [G loss: 4.114709] [Elapsed time: 1758.07s]\n",
            "[Epoch 63/100] [D loss: 0.078471] [G loss: 3.658983] [Elapsed time: 1785.82s]\n",
            "[Epoch 64/100] [D loss: 0.017914] [G loss: 7.679076] [Elapsed time: 1813.34s]\n",
            "[Epoch 65/100] [D loss: 0.076616] [G loss: 5.778715] [Elapsed time: 1840.80s]\n",
            "[Epoch 66/100] [D loss: 0.096036] [G loss: 8.312922] [Elapsed time: 1868.69s]\n",
            "[Epoch 67/100] [D loss: 0.073127] [G loss: 3.700547] [Elapsed time: 1895.91s]\n",
            "[Epoch 68/100] [D loss: 0.016970] [G loss: 5.801958] [Elapsed time: 1923.33s]\n",
            "[Epoch 69/100] [D loss: 0.096225] [G loss: 4.864388] [Elapsed time: 1950.51s]\n",
            "[Epoch 70/100] [D loss: 0.041163] [G loss: 6.403809] [Elapsed time: 1978.44s]\n",
            "[Epoch 71/100] [D loss: 0.087713] [G loss: 4.540454] [Elapsed time: 2006.13s]\n",
            "[Epoch 72/100] [D loss: 0.131136] [G loss: 5.644966] [Elapsed time: 2034.04s]\n",
            "[Epoch 73/100] [D loss: 0.076236] [G loss: 4.033700] [Elapsed time: 2061.54s]\n",
            "[Epoch 74/100] [D loss: 0.081841] [G loss: 3.188358] [Elapsed time: 2089.39s]\n",
            "[Epoch 75/100] [D loss: 0.110303] [G loss: 5.011251] [Elapsed time: 2116.96s]\n",
            "[Epoch 76/100] [D loss: 0.074157] [G loss: 5.929464] [Elapsed time: 2144.96s]\n",
            "[Epoch 77/100] [D loss: 0.035058] [G loss: 4.453368] [Elapsed time: 2172.80s]\n",
            "[Epoch 78/100] [D loss: 0.090819] [G loss: 3.936755] [Elapsed time: 2200.25s]\n",
            "[Epoch 79/100] [D loss: 0.089195] [G loss: 3.619265] [Elapsed time: 2228.49s]\n",
            "[Epoch 80/100] [D loss: 0.079061] [G loss: 5.320785] [Elapsed time: 2256.31s]\n",
            "[Epoch 81/100] [D loss: 0.123987] [G loss: 6.450286] [Elapsed time: 2285.02s]\n",
            "[Epoch 82/100] [D loss: 0.111903] [G loss: 2.560718] [Elapsed time: 2313.42s]\n",
            "[Epoch 83/100] [D loss: 0.059673] [G loss: 5.616332] [Elapsed time: 2341.95s]\n",
            "[Epoch 84/100] [D loss: 0.137064] [G loss: 7.807991] [Elapsed time: 2370.74s]\n",
            "[Epoch 85/100] [D loss: 0.063826] [G loss: 6.586153] [Elapsed time: 2399.96s]\n",
            "[Epoch 86/100] [D loss: 0.136454] [G loss: 5.248232] [Elapsed time: 2427.32s]\n",
            "[Epoch 87/100] [D loss: 0.073844] [G loss: 3.108210] [Elapsed time: 2454.96s]\n",
            "[Epoch 88/100] [D loss: 0.104377] [G loss: 3.121314] [Elapsed time: 2482.73s]\n",
            "[Epoch 89/100] [D loss: 0.140530] [G loss: 8.281395] [Elapsed time: 2510.77s]\n",
            "[Epoch 90/100] [D loss: 0.080039] [G loss: 4.750656] [Elapsed time: 2538.14s]\n",
            "[Epoch 91/100] [D loss: 0.031960] [G loss: 6.085880] [Elapsed time: 2566.23s]\n",
            "[Epoch 92/100] [D loss: 0.038821] [G loss: 5.522503] [Elapsed time: 2594.81s]\n",
            "[Epoch 93/100] [D loss: 0.042194] [G loss: 5.154307] [Elapsed time: 2622.33s]\n",
            "[Epoch 94/100] [D loss: 0.027283] [G loss: 7.519452] [Elapsed time: 2651.14s]\n",
            "[Epoch 95/100] [D loss: 0.022155] [G loss: 5.805602] [Elapsed time: 2679.86s]\n",
            "[Epoch 96/100] [D loss: 0.120975] [G loss: 6.598534] [Elapsed time: 2708.60s]\n",
            "[Epoch 97/100] [D loss: 0.041737] [G loss: 4.613793] [Elapsed time: 2737.03s]\n",
            "[Epoch 98/100] [D loss: 0.071319] [G loss: 4.479648] [Elapsed time: 2765.34s]\n",
            "[Epoch 99/100] [D loss: 0.060377] [G loss: 5.285240] [Elapsed time: 2793.51s]\n"
          ]
        }
      ]
    },
    {
      "cell_type": "code",
      "source": [
        "import numpy as np\n",
        "from matplotlib import pyplot as plt\n",
        "\n",
        "def imshow(img):\n",
        "    img = (img+1)/2    \n",
        "    img = img.squeeze()\n",
        "    np_img = img.numpy()\n",
        "    plt.imshow(np_img, cmap='gray')\n",
        "    plt.show()\n",
        "\n",
        "def imshow_grid(img):\n",
        "    img = utils.make_grid(img.cpu().detach())\n",
        "    img = (img+1)/2\n",
        "    npimg = img.numpy()\n",
        "    plt.imshow(np.transpose(npimg, (1,2,0)))\n",
        "    plt.show()\n",
        "\n",
        "example_mini_batch_img, example_mini_batch_label  = next(iter(train_set))\n",
        "imshow_grid(example_mini_batch_img)"
      ],
      "metadata": {
        "colab": {
          "base_uri": "https://localhost:8080/",
          "height": 265
        },
        "id": "dumQ68fBvyhZ",
        "outputId": "93af890e-7651-4e18-96d0-58cc96124e1e"
      },
      "execution_count": null,
      "outputs": [
        {
          "output_type": "display_data",
          "data": {
            "image/png": "[encoded data removed]",
            "text/plain": [
              "<Figure size 432x288 with 1 Axes>"
            ]
          },
          "metadata": {
            "needs_background": "light"
          }
        }
      ]
    },
    {
      "cell_type": "code",
      "source": [
        ""
      ],
      "metadata": {
        "id": "A6-6x56e6wyk"
      },
      "execution_count": null,
      "outputs": []
    }
  ]
}